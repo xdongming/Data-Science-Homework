{
 "cells": [
  {
   "cell_type": "code",
   "execution_count": 1,
   "id": "7eed82b3-c9f0-44a7-87ff-6d0081f6fc95",
   "metadata": {
    "tags": []
   },
   "outputs": [],
   "source": [
    "from scipy.spatial.distance import cdist\n",
    "def rbf_kernel(x1, x2, varSigma, lengthscale):\n",
    "    if x2 is None:\n",
    "        d = cdist(x1, x1)\n",
    "    else:\n",
    "        d = cdist(x1, x2)\n",
    "    K = varSigma*np.exp(-np.power(d, 2)/lengthscale)\n",
    "    return K"
   ]
  },
  {
   "cell_type": "code",
   "execution_count": 2,
   "id": "ed5f55b3-a4b2-498d-bded-720e159dfa22",
   "metadata": {},
   "outputs": [],
   "source": [
    "import numpy as np\n",
    "#theta[0]==varSigma,theta[1]==lengthscale,theta[2]==noise\n",
    "def surrogate_belief(x,f,xstar,theta):\n",
    "    k_starX = rbf_kernel(xstar,x,theta[0],theta[1])\n",
    "    k_xx = rbf_kernel(x, None,theta[0],theta[1])\n",
    "    k_starstar = rbf_kernel(xstar,None,theta[0],theta[1])\n",
    "    mu = k_starX.dot(np.linalg.inv(k_xx+theta[2]*np.eye(k_xx.shape[0]))).dot(f)\n",
    "    var = k_starstar - (k_starX).dot(np.linalg.inv(k_xx+theta[2]*np.eye(k_xx.shape[0]))).dot(k_starX.T)\n",
    "    return mu, var"
   ]
  },
  {
   "cell_type": "code",
   "execution_count": 3,
   "id": "5189e4f8-96df-4ae0-9f4d-40124786eb22",
   "metadata": {},
   "outputs": [],
   "source": [
    "from scipy.stats import norm\n",
    "import random\n",
    "def expected_improvement(f_max, mu, varSigma, x):\n",
    "    X_num=np.arange(x.shape[0])\n",
    "    alpha=(f_max-mu[X_num].ravel())*norm.cdf(f_max,mu[X_num].ravel(),varSigma[X_num,X_num])+varSigma[X_num,X_num]*norm.pdf(f_max,mu[X_num].ravel(),varSigma[X_num,X_num])\n",
    "    return alpha"
   ]
  },
  {
   "cell_type": "code",
   "execution_count": 4,
   "id": "49122e1e-be6e-4709-82f4-a53663c1908f",
   "metadata": {},
   "outputs": [],
   "source": [
    "def f(x, A=1, B=0, C=0):\n",
    "    return A*(6*x-2)**2*np.sin(12*x-4) + B*(x-0.5) + C"
   ]
  },
  {
   "cell_type": "code",
   "execution_count": 5,
   "id": "f5b93234-c90a-4bf5-a81a-751fab2909a5",
   "metadata": {},
   "outputs": [],
   "source": [
    "#####Experiments I#####\n",
    "N=500    #number of domain X\n",
    "iter=10     #number of iteration\n",
    "theta=[1,0.001,0.0000003]     #parameters of rbf_kernel\n",
    "X=np.linspace(0,1,N)     #initial X    \n",
    "index = np.random.permutation(N)\n",
    "x_star=X[index[:5]]      #sample point\n",
    "f_start=f(x_star)\n",
    "ind=np.argmin(f_start)\n",
    "f_max=f(x_star[ind])\n",
    "for i in range(iter):\n",
    "    mu,varSigma=surrogate_belief(x_star.reshape(-1,1),f(x_star.reshape(-1,1)),X.reshape(-1,1),theta)\n",
    "    alphaX=expected_improvement(f_max, mu, varSigma, X)\n",
    "    ind=np.argmax(alphaX)\n",
    "    x_star=np.append(x_star,X[ind])\n",
    "    if f(x_star[-1])<f_max:\n",
    "        f_max=f(x_star[-1])"
   ]
  },
  {
   "cell_type": "code",
   "execution_count": 6,
   "id": "4cb113ee-5c96-48f1-b8f2-95f96fbb8e0b",
   "metadata": {},
   "outputs": [
    {
     "data": {
      "image/png": "[encoded data removed]",
      "text/plain": [
       "<Figure size 432x288 with 1 Axes>"
      ]
     },
     "metadata": {
      "needs_background": "light"
     },
     "output_type": "display_data"
    }
   ],
   "source": [
    "#####Experiments I plot#####\n",
    "import matplotlib.pyplot as plt\n",
    "mu,varSigma=surrogate_belief(x_star.reshape(-1,1),f(x_star.reshape(-1,1)),X.reshape(-1,1),theta)\n",
    "fmean=mu.ravel()\n",
    "mu_shape=np.arange(mu.shape[0])\n",
    "std=np.sqrt(varSigma[mu_shape,mu_shape])\n",
    "fmax=fmean+std\n",
    "fmin=fmean-std\n",
    "y_real=f(X)\n",
    "alphaX=expected_improvement(f_max, mu, varSigma, X)\n",
    "plt.fill_between(X,fmax,fmin,alpha=0.5);\n",
    "plt.plot(X,fmin,c='b',linestyle='-',label='one standard deviation');\n",
    "plt.plot(X,fmax,c='b',linestyle='-');\n",
    "plt.plot(X,fmean,c='b',linestyle='--',label='mean');\n",
    "plt.scatter(x_star, f(x_star), 200, 'k', '*', zorder=2,label='sample point');\n",
    "plt.plot(X,alphaX,c='m',label='$\\\\alpha(x)$')\n",
    "plt.plot(X,y_real,c='r',label='$f(x)$');\n",
    "plt.legend(loc='upper left');"
   ]
  },
  {
   "cell_type": "code",
   "execution_count": null,
   "id": "195f3ebe-61f0-47b1-9b65-7f0dbf9ee4e2",
   "metadata": {},
   "outputs": [],
   "source": [
    "#####Experiments II#####\n",
    "def f2(x, beta=0.2, alpha1=1.0, alpha2=1.0):\n",
    "    return np.sin(3.0*x) - alpha1*x + alpha2*x**2 + beta*np.random.randn(x.shape[0])"
   ]
  },
  {
   "cell_type": "code",
   "execution_count": null,
   "id": "3bb7b150-bebc-4804-875e-7d8dde2b13b5",
   "metadata": {},
   "outputs": [],
   "source": [
    "import GPy\n",
    "kernel = GPy.kern.RBF(input_dim=1, variance=1.0, lengthscale=4.0)"
   ]
  },
  {
   "cell_type": "code",
   "execution_count": null,
   "id": "62e60119-53f0-4cc9-b7df-95cdd587cac3",
   "metadata": {},
   "outputs": [],
   "source": [
    "domain = [{'name': 'var_1', 'type': 'continuous', 'domain': (-3,3)}]"
   ]
  },
  {
   "cell_type": "code",
   "execution_count": null,
   "id": "7102edc2-d487-47e5-82ad-687a7373b8ce",
   "metadata": {},
   "outputs": [],
   "source": [
    "from GPyOpt.methods import BayesianOptimization\n",
    "opt = BayesianOptimization(f=f2, domain=domain,model_type='GP',initial_design_numdata = 1,kernel=kernel, acquisition_type='EI')\n",
    "opt.run_optimization(max_iter=6)\n",
    "opt.plot_acquisition()"
   ]
  },
  {
   "cell_type": "code",
   "execution_count": null,
   "id": "38158f52-a139-4cf9-a66e-d133941120af",
   "metadata": {
    "tags": []
   },
   "outputs": [],
   "source": [
    "def f(x, alpha=1.0, beta=0.5, gamma=0.2):\n",
    "    return alpha*np.sin(2*np.pi*x/10) + ((beta*np.sin((2*np.pi*x/0.5))) +\n",
    "            (gamma*x) +(0.1*np.random.randn(x.shape[0])))\n",
    "kernel_rbf = GPy.kern.RBF(input_dim=1, variance=1.0, lengthscale=4.0)\n",
    "kernel_cmpnd = ((GPy.kern.RBF(input_dim=1, variance=1.0, lengthscale=4.0)) +\n",
    "                (GPy.kern.StdPeriodic(input_dim=1, variance=1.0, period=10.0)) +\n",
    "                (GPy.kern.StdPeriodic(input_dim=1, variance=1.0, period=0.5)) +\n",
    "                (GPy.kern.Linear(input_dim = 1)) +\n",
    "                (GPy.kern.White(input_dim=1, variance=0.1)))\n",
    "domain = [{'name': 'var_1', 'type': 'continuous', 'domain': (0,10)}]\n",
    "opt = BayesianOptimization(f=f, domain=domain,model_type='GP',\n",
    "                            kernel=kernel_cmpnd,\n",
    "                            acquisition_type='EI',\n",
    "                            initial_design_numdata=5)\n",
    "opt.run_optimization(max_iter=10)\n",
    "opt.plot_acquisition()"
   ]
  }
 ],
 "metadata": {
  "kernelspec": {
   "display_name": "Python 3 (ipykernel)",
   "language": "python",
   "name": "python3"
  },
  "language_info": {
   "codemirror_mode": {
    "name": "ipython",
    "version": 3
   },
   "file_extension": ".py",
   "mimetype": "text/x-python",
   "name": "python",
   "nbconvert_exporter": "python",
   "pygments_lexer": "ipython3",
   "version": "3.9.7"
  }
 },
 "nbformat": 4,
 "nbformat_minor": 5
}
