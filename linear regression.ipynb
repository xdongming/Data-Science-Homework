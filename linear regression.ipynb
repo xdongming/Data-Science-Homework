{
 "cells": [
  {
   "cell_type": "code",
   "execution_count": 1,
   "id": "bb77ac55-f865-4f2f-9b50-e7d2bdc890b5",
   "metadata": {
    "tags": []
   },
   "outputs": [],
   "source": [
    "import numpy as np\n",
    "import matplotlib.pyplot as plt"
   ]
  },
  {
   "cell_type": "code",
   "execution_count": 2,
   "id": "1e81351c-09ff-4466-a12d-4d0226d79ea7",
   "metadata": {
    "tags": []
   },
   "outputs": [],
   "source": [
    "#定义损失函数\n",
    "def loss(X,y,w):\n",
    "    vector=y-np.dot(X,w)\n",
    "    return np.sqrt((vector*vector).sum())      #求平方和"
   ]
  },
  {
   "cell_type": "code",
   "execution_count": 9,
   "id": "5f5ae02d-7068-46fe-a7b6-4f1d614e6ca1",
   "metadata": {
    "tags": []
   },
   "outputs": [],
   "source": [
    "#定义求梯度函数，这里省事直接用微分估计梯度，实际上应该严格按照数值微分来求解\n",
    "def grad(loss,X,y,w):\n",
    "    det=np.zeros([2,1])\n",
    "    w_temp=np.zeros([2,1])\n",
    "    for i in range(w.shape[0]):\n",
    "        w_temp[:,:]=w[:,:]\n",
    "        w_temp[i,0]=w_temp[i,0]-0.01\n",
    "        det[i,0]=(loss(X,y,w)-loss(X,y,w_temp))/0.01\n",
    "        if det[i,0]>1:\n",
    "            det[i,0]=1\n",
    "        elif det[i,0]<-1:        #遇到了梯度爆炸的情况，进行梯度裁剪\n",
    "            det[i,0]=-1\n",
    "    return det"
   ]
  },
  {
   "cell_type": "code",
   "execution_count": 10,
   "id": "3e103dd8-86be-4cdc-97ec-d0994dd41335",
   "metadata": {
    "tags": []
   },
   "outputs": [
    {
     "data": {
      "image/png": "[encoded data removed]",
      "text/plain": [
       "<Figure size 432x288 with 1 Axes>"
      ]
     },
     "metadata": {
      "needs_background": "light"
     },
     "output_type": "display_data"
    }
   ],
   "source": [
    "#通过在真实值的基础上增加扰动来创建数据集\n",
    "X=np.zeros([50,2])\n",
    "X[:,0]=np.linspace(1,50,50)\n",
    "X[:,1]=1\n",
    "w=np.array([[1.5],[1]])\n",
    "y=np.dot(X,w)+np.random.normal(loc=0,scale=10,size=(50,1))\n",
    "plt.scatter(X[:,0],y);"
   ]
  },
  {
   "cell_type": "code",
   "execution_count": 11,
   "id": "112de8cf-208d-4a4e-87f7-d55f26f80e58",
   "metadata": {
    "tags": []
   },
   "outputs": [
    {
     "data": {
      "image/png": "[encoded data removed]",
      "text/plain": [
       "<Figure size 432x288 with 1 Axes>"
      ]
     },
     "metadata": {
      "needs_background": "light"
     },
     "output_type": "display_data"
    }
   ],
   "source": [
    "w0=np.random.normal(loc=0,scale=1,size=(2,1))     #随机产生参数初始值\n",
    "lr=0.1   #学习率\n",
    "N=50   #迭代代数\n",
    "for i in range(N):\n",
    "    w0=w0-lr*grad(loss,X,y,w0)\n",
    "plt.plot(X[:,0],np.dot(X,w0),color='red');\n",
    "plt.scatter(X[:,0],y);"
   ]
  },
  {
   "cell_type": "code",
   "execution_count": null,
   "id": "d3617ab1-de64-47e0-9d44-b387601d4ffc",
   "metadata": {},
   "outputs": [],
   "source": []
  }
 ],
 "metadata": {
  "kernelspec": {
   "display_name": "Python 3 (ipykernel)",
   "language": "python",
   "name": "python3"
  },
  "language_info": {
   "codemirror_mode": {
    "name": "ipython",
    "version": 3
   },
   "file_extension": ".py",
   "mimetype": "text/x-python",
   "name": "python",
   "nbconvert_exporter": "python",
   "pygments_lexer": "ipython3",
   "version": "3.9.7"
  }
 },
 "nbformat": 4,
 "nbformat_minor": 5
}
